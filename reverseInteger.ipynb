{
 "cells": [
  {
   "cell_type": "markdown",
   "id": "31e183d6",
   "metadata": {},
   "source": [
    "Given a signed integer x, return x with its digits reversed.\n",
    "\n",
    "### Example 1:\n",
    "\n",
    "Input: x = 123\n",
    "\n",
    "Output: 321\n",
    "\n",
    "\n",
    "### Example 2:\n",
    "\n",
    "Input: x = -123\n",
    "\n",
    "Output: -321"
   ]
  },
  {
   "cell_type": "code",
   "execution_count": 3,
   "id": "dd08a1e9",
   "metadata": {},
   "outputs": [
    {
     "name": "stdout",
     "output_type": "stream",
     "text": [
      "Input = 123\n",
      "Reversed Integer = 321\n"
     ]
    }
   ],
   "source": [
    "def reverseInteger(x):\n",
    "    \n",
    "#   Var to store output\n",
    "    rev = 0\n",
    "    \n",
    "#   Flag for indicating negative\n",
    "    negative = False\n",
    "    \n",
    "    if(x < 0):\n",
    "        negative = True\n",
    "        x *= -1\n",
    "\n",
    "    while(x != 0):\n",
    "\n",
    "#       Use mod to pop the last digit\n",
    "        lastDigit = x%10\n",
    "    \n",
    "#       Use int divide operation for getting rid of the last digit\n",
    "        x = x//10\n",
    "    \n",
    "#       This is add the last digit to the existing int\n",
    "        rev =  rev * 10 + lastDigit\n",
    "\n",
    "#   Restore negation\n",
    "    if(negative):\n",
    "        rev *= -1\n",
    "        \n",
    "    return rev\n",
    "def main():\n",
    "    testInt = 123\n",
    "    print(\"Input =\", testInt )\n",
    "    result = reverseInteger(testInt)\n",
    "    print(\"Reversed Integer =\", result)\n",
    "    \n",
    "main()\n",
    "    "
   ]
  },
  {
   "cell_type": "code",
   "execution_count": null,
   "id": "8051f33a",
   "metadata": {},
   "outputs": [],
   "source": []
  }
 ],
 "metadata": {
  "kernelspec": {
   "display_name": "Python 3 (ipykernel)",
   "language": "python",
   "name": "python3"
  },
  "language_info": {
   "codemirror_mode": {
    "name": "ipython",
    "version": 3
   },
   "file_extension": ".py",
   "mimetype": "text/x-python",
   "name": "python",
   "nbconvert_exporter": "python",
   "pygments_lexer": "ipython3",
   "version": "3.8.2"
  }
 },
 "nbformat": 4,
 "nbformat_minor": 5
}
