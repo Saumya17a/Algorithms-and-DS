{
 "cells": [
  {
   "cell_type": "code",
   "execution_count": 3,
   "metadata": {},
   "outputs": [],
   "source": [
    "class TreeNode:\n",
    "    def __init__(self, val=0, left = None, right = None):\n",
    "        self.val = val\n",
    "        self.left = left\n",
    "        self.right = right"
   ]
  },
  {
   "cell_type": "code",
   "execution_count": 6,
   "metadata": {},
   "outputs": [],
   "source": [
    "def isSameTree(p: TreeNode,q: TreeNode):\n",
    "        \"\"\"\"\n",
    "        The basic idea is to check the node and go left and right\n",
    "        here the and operator is used to give the final answer as both the left and right\n",
    "        subtrees should be same \n",
    "        \"\"\"\n",
    "        if(not p and not q):\n",
    "            return True\n",
    "        if(not p or not q):\n",
    "            return False\n",
    "        if(p.val != q.val):\n",
    "            return False\n",
    "        return isSameTree(p.left,q.left) and isSameTree(p.right,q.right)"
   ]
  },
  {
   "cell_type": "code",
   "execution_count": 12,
   "metadata": {},
   "outputs": [
    {
     "name": "stdout",
     "output_type": "stream",
     "text": [
      "True\n"
     ]
    }
   ],
   "source": [
    "def main():\n",
    "    root_p = TreeNode(1)\n",
    "    root_q = TreeNode(1)\n",
    "    l1_p =  TreeNode(2)\n",
    "    l1_q = TreeNode(2)\n",
    "    r1_p = TreeNode(3)\n",
    "    r1_q = TreeNode(3)\n",
    "    root_p.left = l1_p\n",
    "    root_p.right = r1_p\n",
    "    root_q.left = l1_q\n",
    "    root_q.right = r1_q\n",
    "    answer  = isSameTree(root_p,root_q)\n",
    "    print(answer)\n",
    "    \n",
    "main()\n",
    "    \n",
    "    "
   ]
  },
  {
   "cell_type": "code",
   "execution_count": null,
   "metadata": {},
   "outputs": [],
   "source": []
  }
 ],
 "metadata": {
  "kernelspec": {
   "display_name": "Python 3",
   "language": "python",
   "name": "python3"
  },
  "language_info": {
   "codemirror_mode": {
    "name": "ipython",
    "version": 3
   },
   "file_extension": ".py",
   "mimetype": "text/x-python",
   "name": "python",
   "nbconvert_exporter": "python",
   "pygments_lexer": "ipython3",
   "version": "3.7.3"
  }
 },
 "nbformat": 4,
 "nbformat_minor": 4
}
