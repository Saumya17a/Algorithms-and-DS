{
 "cells": [
  {
   "cell_type": "markdown",
   "id": "77d5e40a",
   "metadata": {},
   "source": [
    "#### Given a string s, determine if it is a palindrome, considering only alphanumeric characters and ignoring cases.\n",
    "\n",
    " \n",
    "\n",
    "#### Example 1:\n",
    "\n",
    "Input: s = \"A man, a plan, a canal: Panama\"\n",
    "\n",
    "Output: true\n",
    "\n",
    "Explanation: \"amanaplanacanalpanama\" is a palindrome.\n",
    "\n",
    "\n",
    "#### Example 2:\n",
    "Input: s = \"race a car\"\n",
    "\n",
    "Output: false\n",
    "\n",
    "Explanation: \"raceacar\" is not a palindrome."
   ]
  },
  {
   "cell_type": "code",
   "execution_count": 1,
   "id": "1bcd1e6d",
   "metadata": {},
   "outputs": [
    {
     "name": "stdout",
     "output_type": "stream",
     "text": [
      "A man, a plan, a canal: Panama is a palindrome ? True\n"
     ]
    }
   ],
   "source": [
    "def isPalindrome(s):\n",
    "    \n",
    "    palindrome = True\n",
    "    restricted = \"\"\n",
    "    for char in s:\n",
    "        if(char.isalnum()):\n",
    "            restricted += char\n",
    "    n = len(restricted)\n",
    "    for i in range(n//2):\n",
    "\n",
    "        if(restricted[i].lower() == restricted[-i-1].lower() ):\n",
    "            continue\n",
    "        else:\n",
    "            palindrome = False\n",
    "\n",
    "    return palindrome\n",
    "\n",
    "def isPalindromeApproach2 (s):\n",
    "    \"\"\"\n",
    "    This approach focusses on not creating a new string and checking the same string\n",
    "    Also, this approach makes use of a while loop and not a for loop\n",
    "    \"\"\"\n",
    "    palindrome = True\n",
    "    start = 0\n",
    "    end = len(s) - 1\n",
    "\n",
    "    while(start < end):\n",
    "\n",
    "        print(s[start], s[end])\n",
    "\n",
    "        if(not s[start].isalnum()):\n",
    "            start += 1\n",
    "\n",
    "        elif(not s[end].isalnum()):\n",
    "            end -= 1\n",
    "\n",
    "        else:\n",
    "\n",
    "            if(s[start].lower() != s[end].lower()):\n",
    "                palindrome = False\n",
    "                break\n",
    "            start += 1\n",
    "            end -= 1\n",
    "\n",
    "    return palindrome\n",
    "\n",
    "def main():\n",
    "    \n",
    "    testString = \"A man, a plan, a canal: Panama\"\n",
    "    \n",
    "    palindromeResult = isPalindrome(testString)\n",
    "    \n",
    "    print(testString + \" is a palindrome ? \" + str(palindromeResult))\n",
    "    \n",
    "    \n",
    "main()"
   ]
  },
  {
   "cell_type": "code",
   "execution_count": null,
   "id": "f406b9da",
   "metadata": {},
   "outputs": [],
   "source": []
  }
 ],
 "metadata": {
  "kernelspec": {
   "display_name": "Python 3 (ipykernel)",
   "language": "python",
   "name": "python3"
  },
  "language_info": {
   "codemirror_mode": {
    "name": "ipython",
    "version": 3
   },
   "file_extension": ".py",
   "mimetype": "text/x-python",
   "name": "python",
   "nbconvert_exporter": "python",
   "pygments_lexer": "ipython3",
   "version": "3.8.2"
  }
 },
 "nbformat": 4,
 "nbformat_minor": 5
}
