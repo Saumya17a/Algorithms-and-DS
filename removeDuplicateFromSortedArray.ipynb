{
 "cells": [
  {
   "cell_type": "markdown",
   "id": "88db72a7",
   "metadata": {},
   "source": [
    "Given an integer array nums sorted in non-decreasing order, remove the duplicates in-place such that each unique element appears only once. The relative order of the elements should be kept the same.\n",
    "\n",
    "Since it is impossible to change the length of the array in some languages, you must instead have the result be placed in the first part of the array nums. More formally, if there are k elements after removing the duplicates, then the first k elements of nums should hold the final result. It does not matter what you leave beyond the first k elements.\n",
    "\n",
    "Return k after placing the final result in the first k slots of nums.\n",
    "\n",
    "Do not allocate extra space for another array. You must do this by modifying the input array in-place with O(1) extra memory."
   ]
  },
  {
   "cell_type": "code",
   "execution_count": 7,
   "id": "2382ced8",
   "metadata": {},
   "outputs": [
    {
     "name": "stdout",
     "output_type": "stream",
     "text": [
      "Final Result\n",
      "[1, 2, 3, 4]\n"
     ]
    }
   ],
   "source": [
    "def removeDuplicatesFromSortedArray(nums):\n",
    "\n",
    "    # These will be two pointers\n",
    "    pointer1 = 1\n",
    "    pointer2 = 0\n",
    "\n",
    "    # Counter for duplicate values and will be used in if statements\n",
    "    duplicateCounter = 0\n",
    "\n",
    "    n = len(nums)\n",
    "\n",
    "    # To be duplicates, we need at least 2 values\n",
    "    if(n > 1):\n",
    "        while(pointer1 < n):\n",
    "\n",
    "            if(nums[pointer1] == nums[pointer2]):\n",
    "\n",
    "    #          Go ahead and check next num for that pointer1 needs to move ahead\n",
    "                pointer1 += 1\n",
    "                duplicateCounter += 1\n",
    "\n",
    "\n",
    "            else:\n",
    "\n",
    "                pointer2 += 1\n",
    "                if(duplicateCounter > 0):\n",
    "                    nums[pointer2] = nums[pointer1]\n",
    "                pointer1 += 1\n",
    "        if(duplicateCounter > 0):\n",
    "            nums[:] = nums[:-duplicateCounter]\n",
    "        \n",
    "        return nums\n",
    "        \n",
    "def main():\n",
    "    testArray = [1,1,2,2,3,3,3,3,4]\n",
    "    \n",
    "    result = removeDuplicatesFromSortedArray(testArray)\n",
    "    print ( \"Final Result\" )\n",
    "    print (result)\n",
    "    \n",
    "main()"
   ]
  },
  {
   "cell_type": "code",
   "execution_count": null,
   "id": "8dc539ec",
   "metadata": {},
   "outputs": [],
   "source": []
  },
  {
   "cell_type": "code",
   "execution_count": null,
   "id": "c4c5b5da",
   "metadata": {},
   "outputs": [],
   "source": []
  }
 ],
 "metadata": {
  "kernelspec": {
   "display_name": "Python 3 (ipykernel)",
   "language": "python",
   "name": "python3"
  },
  "language_info": {
   "codemirror_mode": {
    "name": "ipython",
    "version": 3
   },
   "file_extension": ".py",
   "mimetype": "text/x-python",
   "name": "python",
   "nbconvert_exporter": "python",
   "pygments_lexer": "ipython3",
   "version": "3.8.2"
  }
 },
 "nbformat": 4,
 "nbformat_minor": 5
}
