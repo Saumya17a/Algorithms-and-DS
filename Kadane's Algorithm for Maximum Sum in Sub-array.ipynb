{
 "cells": [
  {
   "cell_type": "markdown",
   "metadata": {},
   "source": [
    "#  Kadane's Algorithm "
   ]
  },
  {
   "cell_type": "markdown",
   "metadata": {},
   "source": [
    "#### Problem Description:Given an integer array nums, find the contiguous subarray (containing at least one number) which has the largest sum and return its sum.\n",
    "#### Example:\n",
    " #####  Input: nums = [-2,1,-3,4,-1,2,1,-5,4]\n",
    "#### Output: 6\n",
    "##### Explanation: [4,-1,2,1] has the largest sum = 6."
   ]
  },
  {
   "cell_type": "code",
   "execution_count": 10,
   "metadata": {},
   "outputs": [],
   "source": [
    "def max_sub_array(nums):\n",
    "    ## We first define the two variables which keep a track of max sum globally and of the maximum in current sub array\n",
    "    first  = nums[0]\n",
    "    length = len(nums)\n",
    "    curr_max = max_all = first\n",
    "    ## Takes care if there is only one element in the array\n",
    "    if(length == 1):\n",
    "        return first\n",
    "    ## Crux of the algorithm\n",
    "    for i in range(1,length):\n",
    "        ## FInding the max for the current sub-array \n",
    "        curr_max = max(nums[i], curr_max + nums[i])\n",
    "        ## Updating if the current sub-array sum is greater than the global max\n",
    "        if(curr_max > max_all):\n",
    "            max_all = curr_max\n",
    "    ## returns the global maximum\n",
    "    return max_all"
   ]
  },
  {
   "cell_type": "code",
   "execution_count": 13,
   "metadata": {},
   "outputs": [
    {
     "name": "stdout",
     "output_type": "stream",
     "text": [
      "6\n"
     ]
    }
   ],
   "source": [
    "def main():\n",
    "    nums = [-2,1,-3,4,-1,2,1,-5,4]\n",
    "    print(max_sub_array(nums))\n",
    "main()"
   ]
  }
 ],
 "metadata": {
  "kernelspec": {
   "display_name": "Python 3",
   "language": "python",
   "name": "python3"
  },
  "language_info": {
   "codemirror_mode": {
    "name": "ipython",
    "version": 3
   },
   "file_extension": ".py",
   "mimetype": "text/x-python",
   "name": "python",
   "nbconvert_exporter": "python",
   "pygments_lexer": "ipython3",
   "version": "3.7.3"
  }
 },
 "nbformat": 4,
 "nbformat_minor": 4
}
