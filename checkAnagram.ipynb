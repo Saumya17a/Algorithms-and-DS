{
 "cells": [
  {
   "cell_type": "markdown",
   "id": "5d2ca831",
   "metadata": {},
   "source": [
    "Find whether two strings are angrams of each other\n",
    "    "
   ]
  },
  {
   "cell_type": "code",
   "execution_count": 24,
   "id": "2dcd135f",
   "metadata": {},
   "outputs": [
    {
     "name": "stdout",
     "output_type": "stream",
     "text": [
      "defaultdict(<class 'int'>, {})\n",
      "defaultdict(<class 'int'>, {'b': 1, 'a': 0, 'd': -1})\n",
      "The strings bad and dad are anagrams = False\n"
     ]
    }
   ],
   "source": [
    "from collections import defaultdict\n",
    "def isAnagram(a, b):\n",
    "    \n",
    "#   Approach 1\n",
    "    \"\"\"\n",
    "        Create a hashMap and compare the occurence of each character of both the strings and True if and only if the two\n",
    "        hash Maps are equal\n",
    "    \"\"\"\n",
    "    \"\"\"\n",
    "    if(len(a) != len(b)):\n",
    "        return False\n",
    "    \n",
    "    hash1 = {i : 0 for i in a}\n",
    "    hash2 = {i : 0 for i in b}\n",
    "    for i in range(len(a)):\n",
    "        hash1[a[i]] += 1\n",
    "        hash2[b[i]] += 1\n",
    "        \n",
    "    print(hash1, hash2)\n",
    "    \n",
    "    return hash1 == hash2\n",
    "    \"\"\"\n",
    "        \n",
    "    \"\"\"\n",
    "    Approach 2\n",
    "    Make a default dict of type int \n",
    "    Default dict provides a default value for the key that does not exists instead of throwing an error\n",
    "    Loop through s and add to the number of occurences\n",
    "    Loop through t and subtract from the number of occurences\n",
    "    At the end, the dict should have all the values to the keys as 0\n",
    "    \"\"\"\n",
    "    if(len(a) != len(b)):\n",
    "        return False\n",
    "\n",
    "    counter = defaultdict(int)\n",
    "    print(counter)\n",
    "\n",
    "    for i in a:\n",
    "        counter[i] += 1\n",
    "\n",
    "    for i in b:\n",
    "\n",
    "        counter[i] -= 1\n",
    "        \n",
    "    print(counter)\n",
    "\n",
    "    return all(x == 0 for x in counter.values())\n",
    "    \n",
    "def main():\n",
    "    \n",
    "    a = \"bad\"\n",
    "    b = \"dad\"\n",
    "    result = False\n",
    "    result = isAnagram(a,b)\n",
    "    \n",
    "    print(\"The strings \"+ a +\" and \"+ b +\" are anagrams = \" + str(result))\n",
    "    \n",
    "main()"
   ]
  },
  {
   "cell_type": "code",
   "execution_count": null,
   "id": "98828aca",
   "metadata": {},
   "outputs": [],
   "source": []
  },
  {
   "cell_type": "code",
   "execution_count": null,
   "id": "497b4f54",
   "metadata": {},
   "outputs": [],
   "source": []
  }
 ],
 "metadata": {
  "kernelspec": {
   "display_name": "Python 3 (ipykernel)",
   "language": "python",
   "name": "python3"
  },
  "language_info": {
   "codemirror_mode": {
    "name": "ipython",
    "version": 3
   },
   "file_extension": ".py",
   "mimetype": "text/x-python",
   "name": "python",
   "nbconvert_exporter": "python",
   "pygments_lexer": "ipython3",
   "version": "3.8.2"
  }
 },
 "nbformat": 4,
 "nbformat_minor": 5
}
