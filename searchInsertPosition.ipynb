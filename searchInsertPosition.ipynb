{
 "cells": [
  {
   "cell_type": "markdown",
   "id": "f36b5e7a",
   "metadata": {},
   "source": [
    "Given a sorted array of distinct integers and a target value, return the index if the target is found. If not, return the index where it would be if it were inserted in order.\n",
    "\n",
    "You must write an algorithm with O(log n) runtime complexity.\n",
    "\n",
    "## Example 1:\n",
    "#### Input: nums = [1,3,5,6], target = 5\n",
    "    \n",
    "#### Output: 2\n",
    "    \n",
    "## Example 2:\n",
    "#### Input: nums = [1,3,5,6], target = 2\n",
    "    \n",
    "#### Output: 1\n",
    "    \n",
    "#### Example 3:\n",
    "#### Input: nums = [1,3,5,6], target = 7\n",
    "    \n",
    "#### Output: 4\n",
    "    \n",
    "    \n",
    "## Example 4:\n",
    "#### Input: nums = [1,3,5,6], target = 0\n",
    "    \n",
    "#### Output: 0\n",
    "    \n",
    "## Example 5:\n",
    "#### Input: nums = [1], target = 0\n",
    "    \n",
    "#### Output: 0"
   ]
  },
  {
   "cell_type": "code",
   "execution_count": 3,
   "id": "56ba1de0",
   "metadata": {},
   "outputs": [
    {
     "name": "stdout",
     "output_type": "stream",
     "text": [
      "The target 5 is at the index 2\n"
     ]
    }
   ],
   "source": [
    "def searchInsert(nums, target):\n",
    "    n = len(nums) \n",
    "    indexPoint = 0\n",
    "    median = n//2\n",
    "    # print(median)\n",
    "    if(target == nums[0]):\n",
    "        return 0\n",
    "    elif(target == nums[n - 1]):\n",
    "        return n -1\n",
    "\n",
    "    if (target == nums[median]):\n",
    "        return median\n",
    "\n",
    "    if(target > nums[median]):\n",
    "        for i in range(median, n):\n",
    "            if(nums[i] <= target):\n",
    "                if(nums[i] == target):\n",
    "                    return i\n",
    "                else:\n",
    "                    indexPoint = i+1\n",
    "\n",
    "    elif(target < nums[median]):\n",
    "        for i in range(median):\n",
    "            if(nums[i] <= target):\n",
    "                if(nums[i] == target):\n",
    "                    return i\n",
    "                else:\n",
    "                    print(\"here\")\n",
    "                    indexPoint = i+1\n",
    "\n",
    "    return indexPoint\n",
    "\n",
    "\n",
    "def main():\n",
    "    \n",
    "    testArray = [1,3,5,6]\n",
    "    target = 5\n",
    "    \n",
    "    indexReturned = searchInsert(testArray, target)\n",
    "    \n",
    "    print(\"The target \" + str(target) + \" is at the index \" + str(indexReturned))\n",
    "    \n",
    "main()"
   ]
  },
  {
   "cell_type": "code",
   "execution_count": null,
   "id": "77f157fc",
   "metadata": {},
   "outputs": [],
   "source": []
  }
 ],
 "metadata": {
  "kernelspec": {
   "display_name": "Python 3 (ipykernel)",
   "language": "python",
   "name": "python3"
  },
  "language_info": {
   "codemirror_mode": {
    "name": "ipython",
    "version": 3
   },
   "file_extension": ".py",
   "mimetype": "text/x-python",
   "name": "python",
   "nbconvert_exporter": "python",
   "pygments_lexer": "ipython3",
   "version": "3.8.2"
  }
 },
 "nbformat": 4,
 "nbformat_minor": 5
}
