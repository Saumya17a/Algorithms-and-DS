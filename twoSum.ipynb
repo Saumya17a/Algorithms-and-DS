{
 "cells": [
  {
   "cell_type": "markdown",
   "id": "1286e486",
   "metadata": {},
   "source": [
    "Given an array of integers nums and an integer target, return indices of the two numbers such that they add up to target.\n",
    "\n",
    "You may assume that each input would have exactly one solution, and you may not use the same element twice.\n",
    "\n",
    "\n",
    "\n",
    "###### Example 1:\n",
    "\n",
    "Input: nums = [2,7,11,15], target = 9\n",
    "\n",
    "Output: [0,1]\n",
    "\n",
    "Output: Because nums[0] + nums[1] == 9, we return [0, 1].\n",
    "\n",
    "\n",
    "###### Example 2:\n",
    "\n",
    "Input: nums = [3,2,4], target = 6\n",
    "\n",
    "Output: [1,2]\n",
    "\n",
    "\n",
    "###### Example 3:\n",
    "\n",
    "Input: nums = [3,3], target = 6\n",
    "\n",
    "Output: [0,1]"
   ]
  },
  {
   "cell_type": "code",
   "execution_count": 4,
   "id": "122ed28a",
   "metadata": {},
   "outputs": [
    {
     "name": "stdout",
     "output_type": "stream",
     "text": [
      "Resulting indices\n",
      "[3, 1]\n"
     ]
    }
   ],
   "source": [
    "def twoSum(nums, target):\n",
    "    numMap = {}\n",
    "    for i in range(len(nums)):\n",
    "\n",
    "        com = target - nums[i]\n",
    "\n",
    "        if(com in numMap ):\n",
    "            return list((i, numMap[com]))\n",
    "\n",
    "\n",
    "\n",
    "        else:\n",
    "            numMap.update({nums[i] : i})\n",
    "            \n",
    "def main():\n",
    "    testArray = [-2,3,5,6,1,9]\n",
    "    target = 9\n",
    "    \n",
    "    result = twoSum(testArray, target)\n",
    "    \n",
    "    print(\"Resulting indices\", \"\\n\" ,result, sep = '')\n",
    "    \n",
    "    \n",
    "main()"
   ]
  },
  {
   "cell_type": "code",
   "execution_count": null,
   "id": "1cfcb651",
   "metadata": {},
   "outputs": [],
   "source": []
  }
 ],
 "metadata": {
  "kernelspec": {
   "display_name": "Python 3 (ipykernel)",
   "language": "python",
   "name": "python3"
  },
  "language_info": {
   "codemirror_mode": {
    "name": "ipython",
    "version": 3
   },
   "file_extension": ".py",
   "mimetype": "text/x-python",
   "name": "python",
   "nbconvert_exporter": "python",
   "pygments_lexer": "ipython3",
   "version": "3.8.2"
  }
 },
 "nbformat": 4,
 "nbformat_minor": 5
}
