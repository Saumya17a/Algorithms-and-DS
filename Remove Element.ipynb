{
 "cells": [
  {
   "cell_type": "markdown",
   "metadata": {},
   "source": [
    "# Remove Element"
   ]
  },
  {
   "cell_type": "markdown",
   "metadata": {},
   "source": [
    "#### Given an array nums and a value val, remove all instances of that value in-place and return the new length.\n",
    "\n",
    "#### Do not allocate extra space for another array, you must do this by modifying the input array in-place with O(1) extra memory.\n",
    "\n",
    "#### The order of elements can be changed. It doesn't matter what you leave beyond the new length."
   ]
  },
  {
   "cell_type": "markdown",
   "metadata": {},
   "source": [
    "#### Example 1:\n",
    "\n",
    "#### Input: nums = [3,2,2,3], val = 3\n",
    "#### Output: 2, nums = [2,2]\n",
    "#### Explanation: Your function should return length = 2, with the first two elements of nums being 2.\n",
    "#### It doesn't matter what you leave beyond the returned length. For example if you return 2 with nums = [2,2,3,3] or nums = [2,3,0,0], your answer will be accepted.\n",
    "\n",
    "#### Example 2:\n",
    "\n",
    "#### Input: nums = [0,1,2,2,3,0,4,2], val = 2\n",
    "##### Output: 5, nums = [0,1,4,0,3]\n",
    "#### Explanation: Your function should return length = 5, with the first five elements of nums containing 0, 1, 3, 0, and 4. Note that the order of those five elements can be arbitrary. It doesn't matter what values are set beyond the returned length."
   ]
  },
  {
   "cell_type": "code",
   "execution_count": 12,
   "metadata": {},
   "outputs": [],
   "source": [
    "def removeElement(nums, val):\n",
    "        if(((len(nums)) == 1) and (nums[0] == val)):\n",
    "            nums.remove(nums[0])\n",
    "            return 0\n",
    "        i = 0\n",
    "        while (i <len(nums)):\n",
    "            #print(nums[i])\n",
    "            if(nums[i] == val):\n",
    "                if(i == 0):\n",
    "                    nums.remove(nums[i])\n",
    "                else:\n",
    "                    nums.remove(nums[i])\n",
    "            else:\n",
    "                i += 1\n",
    "        #print(nums)\n",
    "        return len(nums)\n",
    "                    "
   ]
  },
  {
   "cell_type": "code",
   "execution_count": 15,
   "metadata": {},
   "outputs": [],
   "source": [
    "def main():\n",
    "    nums =  [0,1,2,2,3,0,4,2]\n",
    "    val = 2\n",
    "    new_length = removeElement(nums, val)\n",
    "    print(nums, new_length)"
   ]
  },
  {
   "cell_type": "code",
   "execution_count": 16,
   "metadata": {},
   "outputs": [
    {
     "name": "stdout",
     "output_type": "stream",
     "text": [
      "[0, 1, 3, 0, 4] 5\n"
     ]
    }
   ],
   "source": [
    "main()"
   ]
  }
 ],
 "metadata": {
  "kernelspec": {
   "display_name": "Python 3",
   "language": "python",
   "name": "python3"
  },
  "language_info": {
   "codemirror_mode": {
    "name": "ipython",
    "version": 3
   },
   "file_extension": ".py",
   "mimetype": "text/x-python",
   "name": "python",
   "nbconvert_exporter": "python",
   "pygments_lexer": "ipython3",
   "version": "3.7.3"
  }
 },
 "nbformat": 4,
 "nbformat_minor": 4
}
