{
 "cells": [
  {
   "cell_type": "markdown",
   "id": "c3e93bd3",
   "metadata": {},
   "source": [
    "Write a function that reverses a string. The input string is given as an array of characters s.\n",
    "\n",
    "\n",
    "Example:\n",
    "\n",
    "Input: s = [\"h\",\"e\",\"l\",\"l\",\"o\"]\n",
    "\n",
    "Output: [\"o\",\"l\",\"l\",\"e\",\"h\"]\n"
   ]
  },
  {
   "cell_type": "code",
   "execution_count": 2,
   "id": "7a5aadb5",
   "metadata": {},
   "outputs": [
    {
     "name": "stdout",
     "output_type": "stream",
     "text": [
      "Result\n",
      "['o', 'l', 'l', 'e', 'h']\n"
     ]
    }
   ],
   "source": [
    "def reverseString(s):\n",
    "\n",
    "    n = len(s)\n",
    "    \n",
    "#   Pointer 1 = Start Pos\n",
    "#   Pointer 2 = End Pos\n",
    "\n",
    "    pointer1 = 0\n",
    "    pointer2 = n - 1\n",
    "\n",
    "    for i in range(n//2):\n",
    "#       Store the current element\n",
    "        temp = s[pointer1]\n",
    "#       Assign Last second pointer element at current index\n",
    "        s[pointer1] = s[pointer2]\n",
    "#       Assign the stored current element at second pointer index\n",
    "        s[pointer2] = temp\n",
    "    \n",
    "#       Go ahead using current pointer\n",
    "        pointer1 += 1\n",
    "    \n",
    "#       Go behind with second pointer\n",
    "        pointer2 -= 1\n",
    "\n",
    "#       If the pointers meet, then we have finished reverse\n",
    "        if(pointer1 == pointer2):\n",
    "            break\n",
    "    return s\n",
    "\n",
    "def main():\n",
    "    testArray = [\"h\", \"e\", \"l\", \"l\", \"o\"]\n",
    "    \n",
    "    result = reverseString(testArray)\n",
    "    print(\"Result\", \"\\n\", result, sep = '' )\n",
    "    \n",
    "main()"
   ]
  },
  {
   "cell_type": "code",
   "execution_count": null,
   "id": "c937bfaa",
   "metadata": {},
   "outputs": [],
   "source": []
  }
 ],
 "metadata": {
  "kernelspec": {
   "display_name": "Python 3 (ipykernel)",
   "language": "python",
   "name": "python3"
  },
  "language_info": {
   "codemirror_mode": {
    "name": "ipython",
    "version": 3
   },
   "file_extension": ".py",
   "mimetype": "text/x-python",
   "name": "python",
   "nbconvert_exporter": "python",
   "pygments_lexer": "ipython3",
   "version": "3.8.2"
  }
 },
 "nbformat": 4,
 "nbformat_minor": 5
}
