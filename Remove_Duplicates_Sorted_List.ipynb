{
 "cells": [
  {
   "cell_type": "markdown",
   "metadata": {},
   "source": [
    "\n",
    "# Remove Duplicates from Sorted List\n"
   ]
  },
  {
   "cell_type": "markdown",
   "metadata": {},
   "source": [
    "### Given a sorted linked list, delete all duplicates such that each element appear only once.\n",
    "\n",
    "### Example 1:\n",
    "\n",
    "### Input: 1->1->2\n",
    "### Output: 1->2\n",
    "### Example 2:\n",
    "\n",
    "### Input: 1->1->2->3->3\n",
    "### Output: 1->2->3"
   ]
  },
  {
   "cell_type": "code",
   "execution_count": 9,
   "metadata": {},
   "outputs": [],
   "source": [
    "class ListNode:\n",
    "    def __init__(self, val = 0, next = None):\n",
    "        self.val = val\n",
    "        self.next = next\n",
    "\n",
    "# Approach 1\n",
    "def deleteDuplicate(head: ListNode):\n",
    "    temp = head\n",
    "    while ((temp is not None) and (temp.next is not None)):\n",
    "        if(temp.val == temp.next.val):\n",
    "            temp.next = temp.next.next\n",
    "        else:\n",
    "            temp = temp.next\n",
    "\n",
    "    return head\n",
    "\n",
    "#Appraoch 2\n",
    "def deleteDuplicate1(head: ListNode):\n",
    "    if not head or not head.next: return head\n",
    "    curr = head\n",
    "    while curr and curr.next:\n",
    "        if curr.val == curr.next.val:\n",
    "            val = curr.val\n",
    "            while curr.next and curr.next.val == val:\n",
    "                curr.next = curr.next.next\n",
    "        else:\n",
    "            curr = curr.next\n",
    "    return head\n"
   ]
  },
  {
   "cell_type": "code",
   "execution_count": 13,
   "metadata": {},
   "outputs": [
    {
     "name": "stdout",
     "output_type": "stream",
     "text": [
      "1\n",
      "2\n",
      "3\n"
     ]
    }
   ],
   "source": [
    "def main():\n",
    "    head = ListNode(1)\n",
    "    n1 = ListNode(1)\n",
    "    n2 = ListNode(2)\n",
    "    n3 = ListNode(2)\n",
    "    n4 = ListNode(3)\n",
    "    n5 = ListNode(3)\n",
    "    head.next = n1\n",
    "    n1.next = n2\n",
    "    n2.next = n3\n",
    "    n3.next = n4\n",
    "    n4.next = n5\n",
    "#     new = deleteDuplicate(head)\n",
    "#     curr = head\n",
    "    new = deleteDuplicate1(head)\n",
    "    curr = head\n",
    "    while(curr):\n",
    "        print(curr.val)\n",
    "        curr = curr.next\n",
    "main()"
   ]
  },
  {
   "cell_type": "code",
   "execution_count": null,
   "metadata": {},
   "outputs": [],
   "source": []
  }
 ],
 "metadata": {
  "kernelspec": {
   "display_name": "Python 3",
   "language": "python",
   "name": "python3"
  }
 },
 "nbformat": 4,
 "nbformat_minor": 4
}
